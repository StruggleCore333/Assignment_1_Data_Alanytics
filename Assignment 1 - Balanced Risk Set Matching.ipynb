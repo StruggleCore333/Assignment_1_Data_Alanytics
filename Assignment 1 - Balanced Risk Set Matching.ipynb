{
 "cells": [
  {
   "cell_type": "markdown",
   "metadata": {},
   "source": [
    "# Assignment 1\n",
    "visualize_matching(data, matches)"
   ]
  },
  {
   "cell_type": "code",
   "execution_count": null,
   "metadata": {},
   "outputs": [],
   "source": [
    "# Import necessary libraries\n",
    "import numpy as np\n",
    "import pandas as pd\n",
    "from scipy.spatial.distance import mahalanobis\n",
    "from pulp import LpProblem, LpVariable, LpMinimize, lpSum\n",
    "import seaborn as sns\n",
    "import matplotlib.pyplot as plt"
   ]
  },
  {
   "cell_type": "code",
   "execution_count": null,
   "metadata": {},
   "outputs": [],
   "source": [
    "# Define functions\n",
    "def create_risk_sets(data, treatment_col, time_col):\n",
    "    \"\"\"Create risk sets for treated patients by finding controls who could still be matched.\"\"\"\n",
    "    risk_sets = {}\n",
    "    treated = data[data[treatment_col] == 1]\n",
    "    for index, treated_row in treated.iterrows():\n",
    "        t = treated_row[time_col]\n",
    "        untreated = data[(data[treatment_col] == 0) & (data[time_col] >= t)]\n",
    "        risk_sets[index] = untreated.index.tolist()\n",
    "    return risk_sets"
   ]
  },
  {
   "cell_type": "code",
   "execution_count": null,
   "metadata": {},
   "outputs": [
    {
     "ename": "IndentationError",
     "evalue": "unexpected indent (688510204.py, line 2)",
     "output_type": "error",
     "traceback": [
      "\u001b[1;36m  Cell \u001b[1;32mIn[54], line 2\u001b[1;36m\u001b[0m\n\u001b[1;33m    def calculate_mahalanobis_matrix(data, cov_matrix):\u001b[0m\n\u001b[1;37m    ^\u001b[0m\n\u001b[1;31mIndentationError\u001b[0m\u001b[1;31m:\u001b[0m unexpected indent\n"
     ]
    }
   ],
   "source": [
    "# Compute Mahalanobis distance\n",
    "def calculate_mahalanobis_matrix(data, cov_matrix):\n",
    "    \"\"\"Compute Mahalanobis distance for all patient pairs.\"\"\"\n",
    "    dist_matrix = pd.DataFrame(index=data.index, columns=data.index, dtype=float)\n",
    "    inv_cov_matrix = np.linalg.inv(cov_matrix)\n",
    "    for i in data.index:\n",
    "        for j in data.index:\n",
    "            dist = mahalanobis(data.loc[i], data.loc[j], inv_cov_matrix)\n",
    "            dist_matrix.loc[i, j] = dist\n",
    "    return dist_matrix"
   ]
  },
  {
   "cell_type": "code",
   "execution_count": null,
   "metadata": {},
   "outputs": [],
   "source": [
    "# Perform optimal matching\n",
    "def optimal_balanced_matching(distance_matrix, risk_sets):\n",
    "    \"\"\"Perform optimal matching using linear programming.\"\"\"\n",
    "    prob = LpProblem(\"Optimal_Matching\", LpMinimize)\n",
    "    match_vars = {(t, c): LpVariable(f\"match_{t}_{c}\", 0, 1, cat=\"Binary\") for t, controls in risk_sets.items() for c in controls}\n",
    "    prob += lpSum(match_vars[t, c] * distance_matrix.loc[t, c] for t, controls in risk_sets.items() for c in controls)\n",
    "    for t in risk_sets:\n",
    "        prob += lpSum(match_vars[t, c] for c in risk_sets[t]) == 1\n",
    "    all_controls = set(c for controls in risk_sets.values() for c in controls)\n",
    "    for c in all_controls:\n",
    "        prob += lpSum(match_vars[t, c] for t in risk_sets if c in risk_sets[t]) <= 1\n",
    "    prob.solve()\n",
    "    matches = {t: c for t, controls in risk_sets.items() for c in controls if match_vars[t, c].value() == 1}\n",
    "    return matches"
   ]
  },
  {
   "cell_type": "code",
   "execution_count": null,
   "metadata": {},
   "outputs": [],
   "source": [
    "# Enhanced visualization using pairplot\n",
    "def visualize_matching(data, matches):\n",
    "    \"\"\"Visualize the matching results using a detailed pairplot.\"\"\"\n",
    "    data['Matched Pair'] = data.index.map(lambda x: matches.get(x, x))\n",
    "    sns.pairplot(data, hue=\"Treatment\", diag_kind=\"kde\", markers=[\"o\", \"s\"])\n",
    "    plt.suptitle(\"Pairwise Feature Distribution with Matched Pairs\", y=1.02)\n",
    "    plt.show()"
   ]
  },
  {
   "cell_type": "markdown",
   "metadata": {},
   "source": [
    "# Explanation\n",
    "This Jupyter Notebook implements **Balanced Risk Set Matching** using Mahalanobis distance and linear programming. \n",
    "\n",
    "### Steps:\n",
    "1. **Load Data**: The dataset includes extracted patient data (Frequency, Pain, Urgency scores).\n",
    "2. **Risk Set Matching**: Identifies potential control matches for treated patients.\n",
    "3. **Mahalanobis Distance Calculation**: Measures similarity between patient pairs.\n",
    "4. **Linear Programming for Matching**: Finds optimal treatment-control matches.\n",
    "5. **Enhanced Visualization**: Displays a pairwise feature distribution using `sns.pairplot`."
   ]
  },
  {
   "cell_type": "code",
   "execution_count": null,
   "metadata": {},
   "outputs": [
    {
     "name": "stdout",
     "output_type": "stream",
     "text": [
      "Extracted Data:\n",
      "     Measure    Group  Score\n",
      "0  Frequency  Treated   2000\n",
      "1       Pain  Treated   4050\n",
      "2    Urgency  Treated   5025\n"
     ]
    }
   ],
   "source": [
    "# Load and preprocess extracted data from PDF\n",
    "data = pd.DataFrame({\n",
    "    \"Measure\": [\"Frequency\", \"Pain\", \"Urgency\"],\n",
    "    \"Group\": [\"Treated\", \"Treated\", \"Treated\"],\n",
    "    \"Score\": [2000, 4050, 5025]\n",
    "})\n",
    "print(\"Extracted Data:\")\n",
    "print(data)"
   ]
  },
  {
   "cell_type": "code",
   "execution_count": null,
   "metadata": {},
   "outputs": [],
   "source": [
    "# Create dummy data for visualization\n",
    "data_expanded = pd.DataFrame({\n",
    "    \"Patient_ID\": [1, 2, 3, 4, 5, 6],\n",
    "    \"Treatment\": [1, 0, 1, 0, 1, 0],\n",
    "    \"Time\": [5, 6, 8, 9, 4, 7],\n",
    "    \"Covariate1\": [2.3, 2.1, 2.5, 2.4, 2.2, 2.0],\n",
    "    \"Covariate2\": [3.5, 3.6, 3.4, 3.5, 3.3, 3.2]\n",
    "})"
   ]
  },
  {
   "cell_type": "code",
   "execution_count": null,
   "metadata": {},
   "outputs": [],
   "source": [
    "# Compute risk sets and distance matrix\n",
    "risk_sets = create_risk_sets(data_expanded, \"Treatment\", \"Time\")\n",
    "cov_matrix = np.cov(data_expanded[\"Covariate1\"], data_expanded[\"Covariate2\"])\n",
    "distance_matrix = calculate_mahalanobis_matrix(data_expanded[[\"Covariate1\", \"Covariate2\"]], cov_matrix)"
   ]
  },
  {
   "cell_type": "code",
   "execution_count": null,
   "metadata": {},
   "outputs": [
    {
     "name": "stdout",
     "output_type": "stream",
     "text": [
      "Matches: {0: 1, 2: 3, 4: 5}\n"
     ]
    },
    {
     "data": {
      "image/png": "[encoded data removed]",
      "text/plain": [
       "<Figure size 800x600 with 1 Axes>"
      ]
     },
     "metadata": {},
     "output_type": "display_data"
    }
   ],
   "source": [
    "# Perform matching and enhanced visualization\n",
    "matches = optimal_balanced_matching(distance_matrix, risk_sets)\n",
    "print(\"Matches:\", matches)\n",
    "visualize_matching(data_expanded, matches)"
   ]
  },
  {
   "cell_type": "code",
   "execution_count": null,
   "metadata": {},
   "outputs": [],
   "source": [
    "\n",
    "# Perform sensitivity analysis\n",
    "sensitivity_scores = sensitivity_analysis(matches)\n"
   ]
  }
 ],
 "metadata": {
  "kernelspec": {
   "display_name": "Python 3",
   "language": "python",
   "name": "python3"
  },
  "language_info": {
   "codemirror_mode": {
    "name": "ipython",
    "version": 3
   },
   "file_extension": ".py",
   "mimetype": "text/x-python",
   "name": "python",
   "nbconvert_exporter": "python",
   "pygments_lexer": "ipython3",
   "version": "3.11.9"
  }
 },
 "nbformat": 4,
 "nbformat_minor": 2
}
