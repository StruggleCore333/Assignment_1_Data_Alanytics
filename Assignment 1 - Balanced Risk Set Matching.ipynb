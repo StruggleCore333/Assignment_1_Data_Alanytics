{
 "cells": [
  {
   "cell_type": "code",
   "execution_count": 13,
   "metadata": {},
   "outputs": [],
   "source": [
    "import numpy as np\n",
    "import pandas as pd\n",
    "from scipy.spatial.distance import mahalanobis\n",
    "from pulp import LpProblem, LpVariable, LpMinimize, lpSum\n",
    "import seaborn as sns\n",
    "import matplotlib.pyplot as plt"
   ]
  },
  {
   "cell_type": "code",
   "execution_count": 14,
   "metadata": {},
   "outputs": [],
   "source": [
    "# Define functions\n",
    "def create_risk_sets(data, treatment_col, time_col):\n",
    "    \"\"\"Create risk sets for treated patients by finding controls who could still be matched.\"\"\"\n",
    "    risk_sets = {}\n",
    "    treated = data[data[treatment_col] == 1]\n",
    "    for index, treated_row in treated.iterrows():\n",
    "        t = treated_row[time_col]\n",
    "        untreated = data[(data[treatment_col] == 0) & (data[time_col] >= t)]\n",
    "        risk_sets[index] = untreated.index.tolist()\n",
    "    return risk_sets"
   ]
  },
  {
   "cell_type": "code",
   "execution_count": 15,
   "metadata": {},
   "outputs": [],
   "source": [
    "def calculate_mahalanobis_matrix(data, cov_matrix):\n",
    "    \"\"\"Compute Mahalanobis distance for all patient pairs.\"\"\"\n",
    "    dist_matrix = pd.DataFrame(index=data.index, columns=data.index)\n",
    "    for i in data.index:\n",
    "        for j in data.index:\n",
    "            dist = mahalanobis(data.loc[i], data.loc[j], np.linalg.inv(cov_matrix))\n",
    "            dist_matrix.loc[i, j] = dist\n",
    "    return dist_matrix"
   ]
  },
  {
   "cell_type": "code",
   "execution_count": 16,
   "metadata": {},
   "outputs": [],
   "source": [
    "def optimal_balanced_matching(distance_matrix, risk_sets):\n",
    "    \"\"\"Perform optimal matching using linear programming.\"\"\"\n",
    "    prob = LpProblem(\"Optimal_Matching\", LpMinimize)\n",
    "    match_vars = {(t, c): LpVariable(f\"match_{t}_{c}\", 0, 1, cat=\"Binary\") for t, controls in risk_sets.items() for c in controls}\n",
    "    prob += lpSum(match_vars[t, c] * distance_matrix.loc[t, c] for t, controls in risk_sets.items() for c in controls)\n",
    "    for t in risk_sets:\n",
    "        prob += lpSum(match_vars[t, c] for c in risk_sets[t]) == 1\n",
    "    all_controls = set(c for controls in risk_sets.values() for c in controls)\n",
    "    for c in all_controls:\n",
    "        prob += lpSum(match_vars[t, c] for t in risk_sets if c in risk_sets[t]) <= 1\n",
    "    prob.solve()\n",
    "    matches = {t: c for t, controls in risk_sets.items() for c in controls if match_vars[t, c].value() == 1}\n",
    "    return matches\n"
   ]
  },
  {
   "cell_type": "code",
   "execution_count": 17,
   "metadata": {},
   "outputs": [],
   "source": [
    "\n",
    "def sensitivity_analysis(matches, bias_factor=1.0):\n",
    "    \"\"\"Perform sensitivity analysis on matched pairs.\"\"\"\n",
    "    return {(t, c): 1 / (1 + bias_factor) for t, c in matches.items()}\n",
    "    "
   ]
  },
  {
   "cell_type": "code",
   "execution_count": 18,
   "metadata": {},
   "outputs": [],
   "source": [
    "def visualize_matching(data, matches):\n",
    "    \"\"\"Visualize the matching results using a scatter plot.\"\"\"\n",
    "    plt.figure(figsize=(8, 6))\n",
    "    treated = data[data['Treatment'] == 1]\n",
    "    control = data[data['Treatment'] == 0]\n",
    "    sns.scatterplot(x=treated['Covariate1'], y=treated['Covariate2'], color='red', label='Treated')\n",
    "    sns.scatterplot(x=control['Covariate1'], y=control['Covariate2'], color='blue', label='Control')\n",
    "    for t, c in matches.items():\n",
    "        plt.plot([data.loc[t, 'Covariate1'], data.loc[c, 'Covariate1']],\n",
    "                 [data.loc[t, 'Covariate2'], data.loc[c, 'Covariate2']], 'k--', lw=0.5)\n",
    "    plt.xlabel(\"Covariate 1\")\n",
    "    plt.ylabel(\"Covariate 2\")\n",
    "    plt.title(\"Matched Pairs Visualization\")\n",
    "    plt.legend()\n",
    "    plt.show()"
   ]
  },
  {
   "cell_type": "code",
   "execution_count": 19,
   "metadata": {},
   "outputs": [],
   "source": [
    "# Load and preprocess data\n",
    "data = pd.DataFrame({\n",
    "    \"Patient_ID\": [1, 2, 3, 4, 5, 6, 7, 8],  # Example patient IDs\n",
    "    \"Treatment\": [1, 0, 1, 0, 1, 0, 1, 0],   # 1 = Treated, 0 = Control\n",
    "    \"Time\": [5, 6, 8, 9, 4, 7, 10, 12],      # Treatment or observation time\n",
    "    \"Covariate1\": [2.3, 2.1, 2.5, 2.4, 2.2, 2.0, 2.6, 2.7],\n",
    "    \"Covariate2\": [3.5, 3.6, 3.4, 3.5, 3.3, 3.2, 3.7, 3.8]\n",
    "})"
   ]
  },
  {
   "cell_type": "code",
   "execution_count": 20,
   "metadata": {},
   "outputs": [],
   "source": [
    "\n",
    "# Compute risk sets and distance matrix\n",
    "risk_sets = create_risk_sets(data, \"Treatment\", \"Time\")\n",
    "cov_matrix = np.cov(data[\"Covariate1\"], data[\"Covariate2\"])\n",
    "distance_matrix = calculate_mahalanobis_matrix(data[[\"Covariate1\", \"Covariate2\"]], cov_matrix)"
   ]
  },
  {
   "cell_type": "code",
   "execution_count": 21,
   "metadata": {},
   "outputs": [],
   "source": [
    "\n",
    "# Perform matching\n",
    "matches = optimal_balanced_matching(distance_matrix, risk_sets)\n",
    "    "
   ]
  },
  {
   "cell_type": "code",
   "execution_count": 22,
   "metadata": {},
   "outputs": [],
   "source": [
    "\n",
    "# Perform sensitivity analysis\n",
    "sensitivity_scores = sensitivity_analysis(matches)\n"
   ]
  },
  {
   "cell_type": "markdown",
   "metadata": {},
   "source": [
    "# Visualize results\n",
    "visualize_matching(data, matches)\n"
   ]
  }
 ],
 "metadata": {
  "kernelspec": {
   "display_name": "Python 3",
   "language": "python",
   "name": "python3"
  },
  "language_info": {
   "codemirror_mode": {
    "name": "ipython",
    "version": 3
   },
   "file_extension": ".py",
   "mimetype": "text/x-python",
   "name": "python",
   "nbconvert_exporter": "python",
   "pygments_lexer": "ipython3",
   "version": "3.11.9"
  }
 },
 "nbformat": 4,
 "nbformat_minor": 2
}
